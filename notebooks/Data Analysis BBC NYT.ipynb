{
 "cells": [
  {
   "cell_type": "code",
   "execution_count": 2,
   "metadata": {},
   "outputs": [],
   "source": [
    "import pandas as pd\n",
    "import numpy as np\n",
    "import pickle as tickle_my_balls_and_call_me\n",
    "import matplotlib.pyplot as plt\n",
    "%matplotlib inline\n",
    "import seaborn as sns"
   ]
  },
  {
   "cell_type": "code",
   "execution_count": 3,
   "metadata": {},
   "outputs": [],
   "source": [
    "import nltk\n",
    "from nltk.sentiment import SentimentAnalyzer"
   ]
  },
  {
   "cell_type": "markdown",
   "metadata": {},
   "source": [
    "# Load Data"
   ]
  },
  {
   "cell_type": "code",
   "execution_count": 4,
   "metadata": {},
   "outputs": [],
   "source": [
    "nyt_df = pd.read_csv('data/scraped/nyt_bitcoin.csv', index_col = 0)\n",
    "nyt_df.published = pd.to_datetime(nyt_df.published, utc=True)#.dt.tz_localize('UTC')\n",
    "nyt_df.index=nyt_df.published\n",
    "nyt_df = nyt_df.sort_index()"
   ]
  },
  {
   "cell_type": "code",
   "execution_count": 34,
   "metadata": {},
   "outputs": [],
   "source": [
    "bbc_df = pd.read_csv('data/scraped/bbc_bitcoin.csv', index_col = 0)\n",
    "bbc_df.published = pd.to_datetime(bbc_df.published, utc=True)#.dt.tz_localize('UTC')\n",
    "bbc_df.index=bbc_df.published\n",
    "bbc_df = bbc_df.sort_index()"
   ]
  },
  {
   "cell_type": "code",
   "execution_count": 6,
   "metadata": {},
   "outputs": [],
   "source": [
    "cnn_df = pd.read_csv('data/scraped/cnn_bitcoin.csv', index_col = 0)\n",
    "cnn_df.published = pd.to_datetime(cnn_df.published, utc=True)#.dt.tz_localize('UTC')\n",
    "cnn_df.index=cnn_df.published\n",
    "cnn_df = cnn_df.sort_index()"
   ]
  },
  {
   "cell_type": "code",
   "execution_count": 7,
   "metadata": {},
   "outputs": [
    {
     "name": "stderr",
     "output_type": "stream",
     "text": [
      "/usr/local/lib/python3.7/site-packages/dateutil/parser/_parser.py:1204: UnknownTimezoneWarning: tzname EDT identified but not understood.  Pass `tzinfos` argument in order to correctly return a timezone-aware datetime.  In a future version, this will raise an exception.\n",
      "  category=UnknownTimezoneWarning)\n",
      "/usr/local/lib/python3.7/site-packages/dateutil/parser/_parser.py:1204: UnknownTimezoneWarning: tzname EST identified but not understood.  Pass `tzinfos` argument in order to correctly return a timezone-aware datetime.  In a future version, this will raise an exception.\n",
      "  category=UnknownTimezoneWarning)\n"
     ]
    }
   ],
   "source": [
    "reuters_df = pd.read_csv('data/scraped/reuters_bitcoin.csv', index_col = 0)\n",
    "reuters_df.published = pd.to_datetime(reuters_df.published, utc=True)#.dt.tz_localize('UTC')\n",
    "reuters_df.index=reuters_df.published\n",
    "reuters_df = reuters_df.sort_index()"
   ]
  },
  {
   "cell_type": "code",
   "execution_count": 71,
   "metadata": {},
   "outputs": [
    {
     "name": "stdout",
     "output_type": "stream",
     "text": [
      "334\n",
      "329\n"
     ]
    }
   ],
   "source": [
    "bbc_pass = bbc_df.loc[bbc_df['content'].str.split().apply(len) > 20]\n",
    "print(len(bbc_df['content']))\n",
    "print(len(bbc_pass))"
   ]
  },
  {
   "cell_type": "code",
   "execution_count": 73,
   "metadata": {},
   "outputs": [
    {
     "data": {
      "text/plain": [
       "450.81762917933133"
      ]
     },
     "execution_count": 73,
     "metadata": {},
     "output_type": "execute_result"
    }
   ],
   "source": [
    "np.mean(bbc_pass['content'].str.split().apply(len).values)"
   ]
  },
  {
   "cell_type": "code",
   "execution_count": 96,
   "metadata": {},
   "outputs": [
    {
     "name": "stdout",
     "output_type": "stream",
     "text": [
      "2011-06-21 23:11:04+00:00\n",
      "2019-05-09 23:04:05+00:00\n"
     ]
    }
   ],
   "source": [
    "print(bbc_pass.published.min())\n",
    "print(bbc_pass.published.max())"
   ]
  },
  {
   "cell_type": "code",
   "execution_count": 87,
   "metadata": {},
   "outputs": [
    {
     "name": "stdout",
     "output_type": "stream",
     "text": [
      "402\n",
      "402\n"
     ]
    }
   ],
   "source": [
    "nyt_pass = nyt_df.loc[nyt_df['content'].str.split().apply(len) > 20]\n",
    "print(len(nyt_df['content']))\n",
    "print(len(nyt_pass))"
   ]
  },
  {
   "cell_type": "code",
   "execution_count": 88,
   "metadata": {},
   "outputs": [
    {
     "data": {
      "text/plain": [
       "1011.2935323383084"
      ]
     },
     "execution_count": 88,
     "metadata": {},
     "output_type": "execute_result"
    }
   ],
   "source": [
    "np.mean(nyt_pass['content'].str.split().apply(len).values)"
   ]
  },
  {
   "cell_type": "code",
   "execution_count": 97,
   "metadata": {},
   "outputs": [
    {
     "name": "stdout",
     "output_type": "stream",
     "text": [
      "2012-01-16 06:01:41+00:00\n",
      "2019-05-21 00:00:00+00:00\n"
     ]
    }
   ],
   "source": [
    "print(nyt_pass.published.min())\n",
    "print(nyt_pass.published.max())"
   ]
  },
  {
   "cell_type": "code",
   "execution_count": 89,
   "metadata": {},
   "outputs": [
    {
     "name": "stdout",
     "output_type": "stream",
     "text": [
      "729\n",
      "720\n"
     ]
    }
   ],
   "source": [
    "reuters_pass = reuters_df.loc[reuters_df['content'].str.split().apply(len) > 20]\n",
    "print(len(reuters_df['content']))\n",
    "print(len(reuters_pass))"
   ]
  },
  {
   "cell_type": "code",
   "execution_count": 90,
   "metadata": {},
   "outputs": [
    {
     "data": {
      "text/plain": [
       "379.4888888888889"
      ]
     },
     "execution_count": 90,
     "metadata": {},
     "output_type": "execute_result"
    }
   ],
   "source": [
    "np.mean(reuters_pass['content'].str.split().apply(len).values)"
   ]
  },
  {
   "cell_type": "code",
   "execution_count": 98,
   "metadata": {},
   "outputs": [
    {
     "name": "stdout",
     "output_type": "stream",
     "text": [
      "2012-04-01 19:01:00+00:00\n",
      "2019-05-17 05:35:00+00:00\n"
     ]
    }
   ],
   "source": [
    "print(reuters_pass.published.min())\n",
    "print(reuters_pass.published.max())"
   ]
  },
  {
   "cell_type": "code",
   "execution_count": 91,
   "metadata": {},
   "outputs": [
    {
     "name": "stdout",
     "output_type": "stream",
     "text": [
      "602\n",
      "602\n"
     ]
    }
   ],
   "source": [
    "cnn_pass = cnn_df.loc[cnn_df['content'].str.split().apply(len) > 20]\n",
    "print(len(cnn_df['content']))\n",
    "print(len(cnn_pass))"
   ]
  },
  {
   "cell_type": "code",
   "execution_count": 92,
   "metadata": {},
   "outputs": [
    {
     "data": {
      "text/plain": [
       "543.6229235880398"
      ]
     },
     "execution_count": 92,
     "metadata": {},
     "output_type": "execute_result"
    }
   ],
   "source": [
    "np.mean(cnn_pass['content'].str.split().apply(len).values)"
   ]
  },
  {
   "cell_type": "code",
   "execution_count": 99,
   "metadata": {},
   "outputs": [
    {
     "name": "stdout",
     "output_type": "stream",
     "text": [
      "2012-08-22 00:00:00+00:00\n",
      "2019-05-23 00:00:00+00:00\n"
     ]
    }
   ],
   "source": [
    "print(cnn_pass.published.min())\n",
    "print(cnn_pass.published.max())"
   ]
  },
  {
   "cell_type": "markdown",
   "metadata": {},
   "source": [
    "#### len(cnn_pass) + len(reuters_pass) + len(nyt_pass) + len(bbc_pass)"
   ]
  },
  {
   "cell_type": "markdown",
   "metadata": {},
   "source": [
    "#### Second: CC and (V)CRIX"
   ]
  },
  {
   "cell_type": "code",
   "execution_count": 5,
   "metadata": {},
   "outputs": [
    {
     "data": {
      "text/plain": [
       "'/Users/alextruesdale/Documents/bitcoin-sentiment/notebooks'"
      ]
     },
     "execution_count": 5,
     "metadata": {},
     "output_type": "execute_result"
    }
   ],
   "source": [
    "import os\n",
    "import pandas as pd\n",
    "\n",
    "os.getcwd()"
   ]
  },
  {
   "cell_type": "code",
   "execution_count": 11,
   "metadata": {},
   "outputs": [
    {
     "data": {
      "text/html": [
       "<div>\n",
       "<style scoped>\n",
       "    .dataframe tbody tr th:only-of-type {\n",
       "        vertical-align: middle;\n",
       "    }\n",
       "\n",
       "    .dataframe tbody tr th {\n",
       "        vertical-align: top;\n",
       "    }\n",
       "\n",
       "    .dataframe thead th {\n",
       "        text-align: right;\n",
       "    }\n",
       "</style>\n",
       "<table border=\"1\" class=\"dataframe\">\n",
       "  <thead>\n",
       "    <tr style=\"text-align: right;\">\n",
       "      <th></th>\n",
       "      <th>PRICE</th>\n",
       "    </tr>\n",
       "    <tr>\n",
       "      <th>DAY</th>\n",
       "      <th></th>\n",
       "    </tr>\n",
       "  </thead>\n",
       "  <tbody>\n",
       "    <tr>\n",
       "      <th>2013-04-28</th>\n",
       "      <td>135.300000</td>\n",
       "    </tr>\n",
       "    <tr>\n",
       "      <th>2013-04-30</th>\n",
       "      <td>135.300000</td>\n",
       "    </tr>\n",
       "    <tr>\n",
       "      <th>2013-05-01</th>\n",
       "      <td>117.000000</td>\n",
       "    </tr>\n",
       "    <tr>\n",
       "      <th>2013-05-02</th>\n",
       "      <td>103.430000</td>\n",
       "    </tr>\n",
       "    <tr>\n",
       "      <th>2013-05-03</th>\n",
       "      <td>91.010000</td>\n",
       "    </tr>\n",
       "    <tr>\n",
       "      <th>2013-05-04</th>\n",
       "      <td>91.010000</td>\n",
       "    </tr>\n",
       "    <tr>\n",
       "      <th>2013-05-05</th>\n",
       "      <td>116.790000</td>\n",
       "    </tr>\n",
       "    <tr>\n",
       "      <th>2013-05-06</th>\n",
       "      <td>118.330000</td>\n",
       "    </tr>\n",
       "    <tr>\n",
       "      <th>2013-05-07</th>\n",
       "      <td>106.400000</td>\n",
       "    </tr>\n",
       "    <tr>\n",
       "      <th>2013-05-08</th>\n",
       "      <td>112.640000</td>\n",
       "    </tr>\n",
       "    <tr>\n",
       "      <th>2013-05-09</th>\n",
       "      <td>113.000000</td>\n",
       "    </tr>\n",
       "    <tr>\n",
       "      <th>2013-05-10</th>\n",
       "      <td>113.000000</td>\n",
       "    </tr>\n",
       "    <tr>\n",
       "      <th>2013-05-11</th>\n",
       "      <td>113.010000</td>\n",
       "    </tr>\n",
       "    <tr>\n",
       "      <th>2013-05-12</th>\n",
       "      <td>114.713000</td>\n",
       "    </tr>\n",
       "    <tr>\n",
       "      <th>2013-05-13</th>\n",
       "      <td>117.180000</td>\n",
       "    </tr>\n",
       "    <tr>\n",
       "      <th>2013-05-14</th>\n",
       "      <td>114.500000</td>\n",
       "    </tr>\n",
       "    <tr>\n",
       "      <th>2013-05-15</th>\n",
       "      <td>114.156000</td>\n",
       "    </tr>\n",
       "    <tr>\n",
       "      <th>2013-05-16</th>\n",
       "      <td>115.500000</td>\n",
       "    </tr>\n",
       "    <tr>\n",
       "      <th>2013-05-17</th>\n",
       "      <td>123.100000</td>\n",
       "    </tr>\n",
       "    <tr>\n",
       "      <th>2013-05-18</th>\n",
       "      <td>123.880000</td>\n",
       "    </tr>\n",
       "    <tr>\n",
       "      <th>2013-05-19</th>\n",
       "      <td>120.501000</td>\n",
       "    </tr>\n",
       "    <tr>\n",
       "      <th>2013-05-20</th>\n",
       "      <td>122.580000</td>\n",
       "    </tr>\n",
       "    <tr>\n",
       "      <th>2013-05-21</th>\n",
       "      <td>122.900000</td>\n",
       "    </tr>\n",
       "    <tr>\n",
       "      <th>2013-05-22</th>\n",
       "      <td>123.000000</td>\n",
       "    </tr>\n",
       "    <tr>\n",
       "      <th>2013-05-23</th>\n",
       "      <td>125.748000</td>\n",
       "    </tr>\n",
       "    <tr>\n",
       "      <th>2013-05-24</th>\n",
       "      <td>131.700000</td>\n",
       "    </tr>\n",
       "    <tr>\n",
       "      <th>2013-05-25</th>\n",
       "      <td>131.700000</td>\n",
       "    </tr>\n",
       "    <tr>\n",
       "      <th>2013-05-26</th>\n",
       "      <td>134.600000</td>\n",
       "    </tr>\n",
       "    <tr>\n",
       "      <th>2013-05-27</th>\n",
       "      <td>128.985000</td>\n",
       "    </tr>\n",
       "    <tr>\n",
       "      <th>2013-05-28</th>\n",
       "      <td>129.179000</td>\n",
       "    </tr>\n",
       "    <tr>\n",
       "      <th>...</th>\n",
       "      <td>...</td>\n",
       "    </tr>\n",
       "    <tr>\n",
       "      <th>2019-03-05</th>\n",
       "      <td>3712.812457</td>\n",
       "    </tr>\n",
       "    <tr>\n",
       "      <th>2019-03-06</th>\n",
       "      <td>3852.461666</td>\n",
       "    </tr>\n",
       "    <tr>\n",
       "      <th>2019-03-07</th>\n",
       "      <td>3860.510762</td>\n",
       "    </tr>\n",
       "    <tr>\n",
       "      <th>2019-03-08</th>\n",
       "      <td>3871.637248</td>\n",
       "    </tr>\n",
       "    <tr>\n",
       "      <th>2019-03-09</th>\n",
       "      <td>3861.879307</td>\n",
       "    </tr>\n",
       "    <tr>\n",
       "      <th>2019-03-10</th>\n",
       "      <td>3941.600873</td>\n",
       "    </tr>\n",
       "    <tr>\n",
       "      <th>2019-03-11</th>\n",
       "      <td>3923.559789</td>\n",
       "    </tr>\n",
       "    <tr>\n",
       "      <th>2019-03-12</th>\n",
       "      <td>3860.359230</td>\n",
       "    </tr>\n",
       "    <tr>\n",
       "      <th>2019-03-13</th>\n",
       "      <td>3876.480853</td>\n",
       "    </tr>\n",
       "    <tr>\n",
       "      <th>2019-03-14</th>\n",
       "      <td>3865.817783</td>\n",
       "    </tr>\n",
       "    <tr>\n",
       "      <th>2019-03-15</th>\n",
       "      <td>3876.698708</td>\n",
       "    </tr>\n",
       "    <tr>\n",
       "      <th>2019-03-16</th>\n",
       "      <td>3925.460580</td>\n",
       "    </tr>\n",
       "    <tr>\n",
       "      <th>2019-03-17</th>\n",
       "      <td>4007.709464</td>\n",
       "    </tr>\n",
       "    <tr>\n",
       "      <th>2019-03-18</th>\n",
       "      <td>3980.990105</td>\n",
       "    </tr>\n",
       "    <tr>\n",
       "      <th>2019-03-19</th>\n",
       "      <td>3986.706894</td>\n",
       "    </tr>\n",
       "    <tr>\n",
       "      <th>2019-03-20</th>\n",
       "      <td>4013.576969</td>\n",
       "    </tr>\n",
       "    <tr>\n",
       "      <th>2019-03-21</th>\n",
       "      <td>4045.572634</td>\n",
       "    </tr>\n",
       "    <tr>\n",
       "      <th>2019-03-22</th>\n",
       "      <td>3983.317781</td>\n",
       "    </tr>\n",
       "    <tr>\n",
       "      <th>2019-03-23</th>\n",
       "      <td>3989.158491</td>\n",
       "    </tr>\n",
       "    <tr>\n",
       "      <th>2019-03-24</th>\n",
       "      <td>4008.945386</td>\n",
       "    </tr>\n",
       "    <tr>\n",
       "      <th>2019-03-25</th>\n",
       "      <td>3993.394900</td>\n",
       "    </tr>\n",
       "    <tr>\n",
       "      <th>2019-03-26</th>\n",
       "      <td>3993.394900</td>\n",
       "    </tr>\n",
       "    <tr>\n",
       "      <th>2019-03-27</th>\n",
       "      <td>3938.659743</td>\n",
       "    </tr>\n",
       "    <tr>\n",
       "      <th>2019-03-28</th>\n",
       "      <td>4036.160918</td>\n",
       "    </tr>\n",
       "    <tr>\n",
       "      <th>2019-03-29</th>\n",
       "      <td>4028.391301</td>\n",
       "    </tr>\n",
       "    <tr>\n",
       "      <th>2019-03-30</th>\n",
       "      <td>4103.322860</td>\n",
       "    </tr>\n",
       "    <tr>\n",
       "      <th>2019-03-31</th>\n",
       "      <td>4103.856421</td>\n",
       "    </tr>\n",
       "    <tr>\n",
       "      <th>2019-04-01</th>\n",
       "      <td>4103.521739</td>\n",
       "    </tr>\n",
       "    <tr>\n",
       "      <th>2019-04-02</th>\n",
       "      <td>4146.321928</td>\n",
       "    </tr>\n",
       "    <tr>\n",
       "      <th>2019-04-03</th>\n",
       "      <td>4862.230428</td>\n",
       "    </tr>\n",
       "  </tbody>\n",
       "</table>\n",
       "<p>2166 rows × 1 columns</p>\n",
       "</div>"
      ],
      "text/plain": [
       "                  PRICE\n",
       "DAY                    \n",
       "2013-04-28   135.300000\n",
       "2013-04-30   135.300000\n",
       "2013-05-01   117.000000\n",
       "2013-05-02   103.430000\n",
       "2013-05-03    91.010000\n",
       "2013-05-04    91.010000\n",
       "2013-05-05   116.790000\n",
       "2013-05-06   118.330000\n",
       "2013-05-07   106.400000\n",
       "2013-05-08   112.640000\n",
       "2013-05-09   113.000000\n",
       "2013-05-10   113.000000\n",
       "2013-05-11   113.010000\n",
       "2013-05-12   114.713000\n",
       "2013-05-13   117.180000\n",
       "2013-05-14   114.500000\n",
       "2013-05-15   114.156000\n",
       "2013-05-16   115.500000\n",
       "2013-05-17   123.100000\n",
       "2013-05-18   123.880000\n",
       "2013-05-19   120.501000\n",
       "2013-05-20   122.580000\n",
       "2013-05-21   122.900000\n",
       "2013-05-22   123.000000\n",
       "2013-05-23   125.748000\n",
       "2013-05-24   131.700000\n",
       "2013-05-25   131.700000\n",
       "2013-05-26   134.600000\n",
       "2013-05-27   128.985000\n",
       "2013-05-28   129.179000\n",
       "...                 ...\n",
       "2019-03-05  3712.812457\n",
       "2019-03-06  3852.461666\n",
       "2019-03-07  3860.510762\n",
       "2019-03-08  3871.637248\n",
       "2019-03-09  3861.879307\n",
       "2019-03-10  3941.600873\n",
       "2019-03-11  3923.559789\n",
       "2019-03-12  3860.359230\n",
       "2019-03-13  3876.480853\n",
       "2019-03-14  3865.817783\n",
       "2019-03-15  3876.698708\n",
       "2019-03-16  3925.460580\n",
       "2019-03-17  4007.709464\n",
       "2019-03-18  3980.990105\n",
       "2019-03-19  3986.706894\n",
       "2019-03-20  4013.576969\n",
       "2019-03-21  4045.572634\n",
       "2019-03-22  3983.317781\n",
       "2019-03-23  3989.158491\n",
       "2019-03-24  4008.945386\n",
       "2019-03-25  3993.394900\n",
       "2019-03-26  3993.394900\n",
       "2019-03-27  3938.659743\n",
       "2019-03-28  4036.160918\n",
       "2019-03-29  4028.391301\n",
       "2019-03-30  4103.322860\n",
       "2019-03-31  4103.856421\n",
       "2019-04-01  4103.521739\n",
       "2019-04-02  4146.321928\n",
       "2019-04-03  4862.230428\n",
       "\n",
       "[2166 rows x 1 columns]"
      ]
     },
     "execution_count": 11,
     "metadata": {},
     "output_type": "execute_result"
    }
   ],
   "source": [
    "btc_prices = pd.read_csv('../data/external/BTC_price_201305_201903.csv', header=None, index_col=0).fillna(method='ffill')\n",
    "btc_prices.columns = ['PRICE']\n",
    "btc_prices.index.name =  'DAY'\n",
    "btc_prices.index = pd.to_datetime(btc_prices.index)\n",
    "btc_prices\n"
   ]
  },
  {
   "cell_type": "code",
   "execution_count": 12,
   "metadata": {},
   "outputs": [
    {
     "data": {
      "text/plain": [
       "DatetimeIndex(['2013-04-28', '2013-04-30', '2013-05-01', '2013-05-02',\n",
       "               '2013-05-03', '2013-05-04', '2013-05-05', '2013-05-06',\n",
       "               '2013-05-07', '2013-05-08',\n",
       "               ...\n",
       "               '2019-03-25', '2019-03-26', '2019-03-27', '2019-03-28',\n",
       "               '2019-03-29', '2019-03-30', '2019-03-31', '2019-04-01',\n",
       "               '2019-04-02', '2019-04-03'],\n",
       "              dtype='datetime64[ns]', name='DAY', length=2166, freq=None)"
      ]
     },
     "execution_count": 12,
     "metadata": {},
     "output_type": "execute_result"
    }
   ],
   "source": [
    "pd.to_datetime(btc_prices.index)"
   ]
  },
  {
   "cell_type": "code",
   "execution_count": 5,
   "metadata": {},
   "outputs": [],
   "source": [
    "crix = pd.read_csv('data/crix.csv', index_col = 'date')\n",
    "crix.index = pd.to_datetime(crix.index)\n",
    "vcrix = pd.read_csv('data/vcrix.csv', usecols=[2,3],index_col = 'date')\n",
    "vcrix.index = pd.to_datetime(vcrix.index)"
   ]
  },
  {
   "cell_type": "code",
   "execution_count": 6,
   "metadata": {},
   "outputs": [],
   "source": [
    "new_vcrix = pd.read_csv('data/new_vcrix', usecols=[1,4],index_col = 'Date')\n",
    "new_vcrix.index = pd.to_datetime(new_vcrix.index)"
   ]
  },
  {
   "cell_type": "markdown",
   "metadata": {},
   "source": [
    "# Data Analysis"
   ]
  },
  {
   "cell_type": "code",
   "execution_count": 29,
   "metadata": {},
   "outputs": [
    {
     "data": {
      "text/plain": [
       "7341"
      ]
     },
     "execution_count": 29,
     "metadata": {},
     "output_type": "execute_result"
    }
   ],
   "source": [
    "len(nyt_df.content[:].values.reshape(-1,1)[0][0])"
   ]
  },
  {
   "cell_type": "code",
   "execution_count": 49,
   "metadata": {},
   "outputs": [
    {
     "name": "stdout",
     "output_type": "stream",
     "text": [
      "[    3     3     3     3     3     3     3     3     3     3     3     3\n",
      "     3     3     3     3     3     3     3     3   358   454   805   841\n",
      "   918   948   979   988  1029  1048  1094  1137  1222  1274  1292  1311\n",
      "  1424  1655  1671  1703  1714  1715  1773  1779  1799  1819  1877  1903\n",
      "  1953  1998  2007  2034  2082  2124  2170  2173  2220  2245  2250  2284\n",
      "  2310  2316  2316  2340  2349  2351  2369  2369  2376  2493  2503  2625\n",
      "  2630  2702  2706  2711  2732  2732  2739  2765  2775  2777  2854  2854\n",
      "  2865  2867  2918  2928  3012  3044  3051  3073  3124  3138  3141  3143\n",
      "  3168  3216  3230  3232  3242  3248  3348  3369  3388  3398  3400  3471\n",
      "  3479  3484  3488  3574  3581  3582  3614  3648  3663  3698  3698  3703\n",
      "  3723  3739  3760  3779  3780  3786  3788  3812  3830  3832  3914  3921\n",
      "  3926  3928  3933  3942  3945  3984  4014  4020  4045  4084  4103  4115\n",
      "  4130  4138  4147  4173  4188  4211  4222  4233  4234  4254  4283  4286\n",
      "  4349  4385  4390  4391  4400  4410  4428  4476  4517  4520  4522  4526\n",
      "  4552  4640  4659  4676  4698  4737  4755  4777  4781  4790  4802  4812\n",
      "  4817  4819  4836  4841  4860  4868  4911  4951  4971  4972  4995  4996\n",
      "  5003  5034  5039  5049  5111  5141  5143  5147  5186  5188  5188  5198\n",
      "  5236  5237  5269  5324  5338  5344  5345  5357  5374  5401  5411  5460\n",
      "  5466  5474  5523  5570  5606  5636  5659  5712  5712  5738  5765  5783\n",
      "  5803  5821  5909  5919  5920  5925  5974  6009  6019  6032  6037  6059\n",
      "  6063  6064  6091  6092  6100  6108  6135  6138  6141  6155  6210  6233\n",
      "  6239  6243  6261  6265  6271  6275  6292  6313  6351  6370  6437  6447\n",
      "  6498  6517  6518  6526  6543  6550  6566  6589  6606  6640  6714  6734\n",
      "  6776  6798  6808  6816  6833  6833  6857  6862  6897  6915  6940  6951\n",
      "  6957  7005  7009  7044  7049  7060  7079  7086  7099  7102  7104  7150\n",
      "  7176  7215  7219  7238  7334  7341  7349  7371  7406  7411  7431  7437\n",
      "  7439  7468  7475  7476  7480  7487  7499  7502  7534  7546  7578  7627\n",
      "  7628  7645  7670  7724  7730  7740  7765  7771  7774  7798  7803  7805\n",
      "  7806  7809  7828  7851  7855  7861  7863  7884  7924  7925  7960  8004\n",
      "  8036  8064  8075  8077  8124  8166  8188  8193  8247  8258  8270  8295\n",
      "  8302  8340  8361  8515  8581  8623  8644  8845  8847  8865  9150  9165\n",
      "  9170  9206  9239  9375  9398  9412  9525  9584  9777 10342 10498 10579\n",
      " 10649 10968 11133 11287 11334 11347 11364 11396 11430 11534 11721 11947\n",
      " 12131 12374 12482 12523 12598 12659 12735 12877 12920 13073 13133 13238\n",
      " 13358 13548 13616 13836 14363 14555 15488 15494 16654 17156 19025 28343\n",
      " 39130 54169]\n"
     ]
    }
   ],
   "source": [
    "_lengths_listcompre = [len(str(element)) for element in nyt_df[:].content.values]"
   ]
  },
  {
   "cell_type": "code",
   "execution_count": 51,
   "metadata": {},
   "outputs": [
    {
     "data": {
      "text/plain": [
       "2477387"
      ]
     },
     "execution_count": 51,
     "metadata": {},
     "output_type": "execute_result"
    }
   ],
   "source": [
    "np.sum(_lengths_listcompre)"
   ]
  },
  {
   "cell_type": "markdown",
   "metadata": {},
   "source": [
    "### NLTK"
   ]
  },
  {
   "cell_type": "code",
   "execution_count": 55,
   "metadata": {},
   "outputs": [],
   "source": [
    "first_nyt_article = nyt_df.content[0]"
   ]
  },
  {
   "cell_type": "code",
   "execution_count": null,
   "metadata": {},
   "outputs": [],
   "source": [
    "nltk.sentiment"
   ]
  },
  {
   "cell_type": "code",
   "execution_count": 53,
   "metadata": {},
   "outputs": [],
   "source": [
    "sa = SentimentAnalyzer()"
   ]
  },
  {
   "cell_type": "markdown",
   "metadata": {},
   "source": [
    "## Textblob"
   ]
  },
  {
   "cell_type": "code",
   "execution_count": 9,
   "metadata": {},
   "outputs": [],
   "source": [
    "from textblob import TextBlob"
   ]
  },
  {
   "cell_type": "code",
   "execution_count": 61,
   "metadata": {},
   "outputs": [],
   "source": [
    "analysis = TextBlob(first_nyt_article)"
   ]
  },
  {
   "cell_type": "code",
   "execution_count": 62,
   "metadata": {},
   "outputs": [
    {
     "data": {
      "text/plain": [
       "Sentiment(polarity=0.11859100119738421, subjectivity=0.490705228577569)"
      ]
     },
     "execution_count": 62,
     "metadata": {},
     "output_type": "execute_result"
    }
   ],
   "source": [
    "analysis.sentiment"
   ]
  },
  {
   "cell_type": "code",
   "execution_count": 68,
   "metadata": {},
   "outputs": [
    {
     "data": {
      "text/plain": [
       "0.11859100119738421"
      ]
     },
     "execution_count": 68,
     "metadata": {},
     "output_type": "execute_result"
    }
   ],
   "source": [
    "TextBlob(first_nyt_article).sentiment[0]"
   ]
  },
  {
   "cell_type": "code",
   "execution_count": 10,
   "metadata": {},
   "outputs": [],
   "source": [
    "nyt_df['textblob_sent'] = [TextBlob(str(e)).sentiment[0] for e in nyt_df.content]\n",
    "bbc_df['textblob_sent'] = [TextBlob(str(e)).sentiment[0] for e in bbc_df.content]"
   ]
  },
  {
   "cell_type": "code",
   "execution_count": 11,
   "metadata": {},
   "outputs": [],
   "source": [
    "nyt_df['textblob_pola'] = [TextBlob(str(e)).sentiment[1] for e in nyt_df.content]\n",
    "bbc_df['textblob_pola'] = [TextBlob(str(e)).sentiment[1] for e in bbc_df.content]"
   ]
  },
  {
   "cell_type": "code",
   "execution_count": 12,
   "metadata": {},
   "outputs": [],
   "source": [
    "nyt_articles_per_day = nyt_df.groupby([pd.Grouper(key='published', freq='D')])['content'].count()\n",
    "nyt_articles_per_week = nyt_df.groupby([pd.Grouper(key='published', freq='W-MON')])['content'].count()\n",
    "nyt_articles_per_month = nyt_df.groupby([pd.Grouper(key='published', freq='M')])['content'].count()"
   ]
  },
  {
   "cell_type": "code",
   "execution_count": 13,
   "metadata": {},
   "outputs": [],
   "source": [
    "bbc_articles_per_day = bbc_df.groupby([pd.Grouper(key='published', freq='D')])['content'].count()\n",
    "bbc_articles_per_week = bbc_df.groupby([pd.Grouper(key='published', freq='W-MON')])['content'].count()\n",
    "bbc_articles_per_month = bbc_df.groupby([pd.Grouper(key='published', freq='M')])['content'].count()"
   ]
  },
  {
   "cell_type": "code",
   "execution_count": 14,
   "metadata": {},
   "outputs": [],
   "source": [
    "nyt_sent_mean_day = nyt_df.groupby([pd.Grouper(key='published', freq='D')])['textblob_sent'].mean().fillna(0)\n",
    "bbc_sent_mean_day = bbc_df.groupby([pd.Grouper(key='published', freq='D')])['textblob_sent'].mean().fillna(0)"
   ]
  },
  {
   "cell_type": "code",
   "execution_count": 13,
   "metadata": {},
   "outputs": [
    {
     "ename": "NameError",
     "evalue": "name 'plt' is not defined",
     "output_type": "error",
     "traceback": [
      "\u001b[0;31m---------------------------------------------------------------------------\u001b[0m",
      "\u001b[0;31mNameError\u001b[0m                                 Traceback (most recent call last)",
      "\u001b[0;32m<ipython-input-13-2e40a53c3946>\u001b[0m in \u001b[0;36m<module>\u001b[0;34m\u001b[0m\n\u001b[0;32m----> 1\u001b[0;31m \u001b[0mfig\u001b[0m\u001b[0;34m,\u001b[0m\u001b[0max\u001b[0m \u001b[0;34m=\u001b[0m \u001b[0mplt\u001b[0m\u001b[0;34m.\u001b[0m\u001b[0msubplots\u001b[0m\u001b[0;34m(\u001b[0m\u001b[0;36m1\u001b[0m\u001b[0;34m,\u001b[0m\u001b[0;36m1\u001b[0m\u001b[0;34m)\u001b[0m\u001b[0;34m\u001b[0m\u001b[0;34m\u001b[0m\u001b[0m\n\u001b[0m\u001b[1;32m      2\u001b[0m \u001b[0mfig\u001b[0m\u001b[0;34m.\u001b[0m\u001b[0mset_size_inches\u001b[0m\u001b[0;34m(\u001b[0m\u001b[0;36m16\u001b[0m\u001b[0;34m,\u001b[0m\u001b[0;36m4\u001b[0m\u001b[0;34m)\u001b[0m\u001b[0;34m\u001b[0m\u001b[0;34m\u001b[0m\u001b[0m\n\u001b[1;32m      3\u001b[0m \u001b[0mstart_date\u001b[0m \u001b[0;34m=\u001b[0m \u001b[0mpd\u001b[0m\u001b[0;34m.\u001b[0m\u001b[0mto_datetime\u001b[0m\u001b[0;34m(\u001b[0m\u001b[0;34m'2017-01-01 00:00:00'\u001b[0m\u001b[0;34m)\u001b[0m\u001b[0;34m\u001b[0m\u001b[0;34m\u001b[0m\u001b[0m\n\u001b[1;32m      4\u001b[0m \u001b[0mstop_date\u001b[0m \u001b[0;34m=\u001b[0m \u001b[0mpd\u001b[0m\u001b[0;34m.\u001b[0m\u001b[0mto_datetime\u001b[0m\u001b[0;34m(\u001b[0m\u001b[0;34m'2019-05-28 00:00:00'\u001b[0m\u001b[0;34m)\u001b[0m\u001b[0;34m\u001b[0m\u001b[0;34m\u001b[0m\u001b[0m\n\u001b[1;32m      5\u001b[0m \u001b[0max\u001b[0m\u001b[0;34m.\u001b[0m\u001b[0mset_xlim\u001b[0m\u001b[0;34m(\u001b[0m\u001b[0mstart_date\u001b[0m\u001b[0;34m,\u001b[0m\u001b[0mstop_date\u001b[0m\u001b[0;34m)\u001b[0m\u001b[0;34m\u001b[0m\u001b[0;34m\u001b[0m\u001b[0m\n",
      "\u001b[0;31mNameError\u001b[0m: name 'plt' is not defined"
     ]
    }
   ],
   "source": [
    "fig,ax = plt.subplots(1,1)\n",
    "fig.set_size_inches(16,4)\n",
    "start_date = pd.to_datetime('2017-01-01 00:00:00')\n",
    "stop_date = pd.to_datetime('2019-05-28 00:00:00')\n",
    "ax.set_xlim(start_date,stop_date)\n",
    "# _plotvar1 = nyt_articles_per_day.rolling(30).mean()+bbc_articles_per_day.rolling(30).mean()\n",
    "_plotvar1 = (nyt_sent_mean_day.rolling(30).mean()+\n",
    "             bbc_sent_mean_day.rolling(30).mean())\n",
    "label1 = 'Monthly'\n",
    "\n",
    "# line1=ax.plot(_plotvar1,label=label1)\n",
    "# line2=ax.plot(nyt_df.textblob_pola.rolling(60).mean(),label='Polarity')\n",
    "line1=ax.plot(nyt_articles_per_day.rolling(30).mean(),label='Monthly')\n",
    "line2=ax.plot(nyt_articles_per_day.rolling(14).mean(),label='Fortnightly')\n",
    "# line2 =  ax2.plot(btc_log_ret.rolling(30).mean(), label='BTC DR Smoothed', c = 'red', alpha = 0.7)\n",
    "\n",
    "ax2 = ax.twinx()\n",
    "# line3 = ax2.plot(btc_prices, label='BTC', c = 'red', alpha = 0.7)\n",
    "line4 = ax2.plot(vcrix, label='VCRIX', c = 'red', alpha = 0.7)\n",
    "line3 = ax2.plot(new_vcrix, label='NEW VCRIX', c = 'green', alpha = 0.7)\n",
    "# line3 = ax2.plot(crix, label='CRIX', c = 'red', alpha = 0.7)\n",
    "# line3 = ax2.plot(btc_log_ret, label='BTC DR', c = 'red', alpha = 0.7)\n",
    "# line3 = ax2.plot(btc_log_ret.rolling(30).mean(), label='BTC DR Smoothed', c = 'red', alpha = 0.7)\n",
    "\n",
    "# #make a shared legend for both subplots\n",
    "lines = line1+line3+line4\n",
    "labs = [l.get_label() for l in lines]\n",
    "ax.legend(lines, labs, handlelength=2, loc=0)\n",
    "\n",
    "# plt.savefig('plots/NYT_CRIX_Textblob.png', dpi=150, transparent=True)\n",
    "plt.show()"
   ]
  },
  {
   "cell_type": "markdown",
   "metadata": {},
   "source": [
    "## VADER"
   ]
  },
  {
   "cell_type": "code",
   "execution_count": 63,
   "metadata": {},
   "outputs": [],
   "source": [
    "from vaderSentiment.vaderSentiment import SentimentIntensityAnalyzer"
   ]
  },
  {
   "cell_type": "code",
   "execution_count": 64,
   "metadata": {},
   "outputs": [],
   "source": [
    "vaser_analyser = SentimentIntensityAnalyzer()"
   ]
  }
 ],
 "metadata": {
  "kernelspec": {
   "display_name": "Python 3",
   "language": "python",
   "name": "python3"
  },
  "language_info": {
   "codemirror_mode": {
    "name": "ipython",
    "version": 3
   },
   "file_extension": ".py",
   "mimetype": "text/x-python",
   "name": "python",
   "nbconvert_exporter": "python",
   "pygments_lexer": "ipython3",
   "version": "3.7.4"
  }
 },
 "nbformat": 4,
 "nbformat_minor": 2
}
